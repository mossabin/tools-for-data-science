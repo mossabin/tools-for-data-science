{
  "metadata": {
    "language_info": {
      "codemirror_mode": {
        "name": "python",
        "version": 3
      },
      "file_extension": ".py",
      "mimetype": "text/x-python",
      "name": "python",
      "nbconvert_exporter": "python",
      "pygments_lexer": "ipython3",
      "version": "3.8"
    },
    "kernelspec": {
      "name": "python",
      "display_name": "Python (Pyodide)",
      "language": "python"
    }
  },
  "nbformat_minor": 4,
  "nbformat": 4,
  "cells": [
    {
      "cell_type": "markdown",
      "source": "<h1>My Jupyter Notebook on IBM Watson Studio</h1>\n",
      "metadata": {}
    },
    {
      "cell_type": "markdown",
      "source": "<B>MOSSAB INOUSS</B>",
      "metadata": {}
    },
    {
      "cell_type": "markdown",
      "source": "<i> I choosed to learn data science because I love using data and statistics to understand our world  more.</i>",
      "metadata": {}
    },
    {
      "cell_type": "markdown",
      "source": "<h3> my code tests a simple operation</h3>",
      "metadata": {}
    },
    {
      "cell_type": "code",
      "source": "1 == 2-1",
      "metadata": {
        "trusted": true
      },
      "execution_count": 10,
      "outputs": [
        {
          "execution_count": 10,
          "output_type": "execute_result",
          "data": {
            "text/plain": "True"
          },
          "metadata": {}
        }
      ]
    },
    {
      "cell_type": "markdown",
      "source": "| cell | cell |\n| ---- | ---- |\n| one  | two  |\n\n\n\n\n<ul>\n<li>one.</li>\n<li>two.</li>\n<li>three.</li>\n</ul>\n<a href = \"www.ibl.com\">www.ibm.com</a>",
      "metadata": {}
    },
    {
      "cell_type": "code",
      "source": "",
      "metadata": {},
      "execution_count": null,
      "outputs": []
    }
  ]
}